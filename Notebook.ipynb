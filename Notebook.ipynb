{
  "cells": [
    {
      "cell_type": "markdown",
      "metadata": {
        "id": "nP-iW0ZVkE5B"
      },
      "source": [
        "\n",
        "# About RI_HEVNAA\n",
        "\n",
        "It is recomended you use Python 3.10 >\n",
        "\n",
        "RI_HEVNAA is open source, with all code available for download, inspection and modification at [https://github.com/UMN-VR/RI_HEVNAA](https://github.com/UMN-VR/RI_HEVNAA)"
      ]
    },
    {
      "cell_type": "markdown",
      "metadata": {},
      "source": [
        "# Local Execution"
      ]
    },
    {
      "cell_type": "code",
      "execution_count": 14,
      "metadata": {},
      "outputs": [
        {
          "name": "stdout",
          "output_type": "stream",
          "text": [
            "@main: Starting RI-HEVNAA System  with dir: /Library/Github/RI-HEVNAA\n",
            "Deleting logs\n",
            "\n",
            "@RIHEVNAA.init:\n",
            "\n",
            "@BusManager.init:\n",
            "@WebMonitoringProcess.init:\n",
            "@Accelerators.init:\n",
            "@RIHEVNAA.init: DONE: Init Components\n",
            "Initializing Interhemispheric Units\n",
            "@Unit.init: Starting A_HCPU\n",
            "@A_HCPU.link_accelerators:\n",
            "@A_HCPU.init:\n",
            "Init Control Unit DONE\n",
            "Init Execution Unit DONE\n",
            "Init Memory Unit DONE\n",
            "@Unit.init: Starting R_HCPU\n",
            "@R_HCPU.link_accelerators:\n",
            "@R_HCPU.init:\n",
            "Init Control Unit DONE\n",
            "Init Execution Unit DONE\n",
            "Init Memory Unit DONE\n",
            "@Unit.init: Starting L_HCPU\n",
            "@L_HCPU.link_accelerators:\n",
            "@L_HCPU.init:\n",
            "Init Control Unit DONE\n",
            "Init Execution Unit DONE\n",
            "Init Memory Unit DONE\n",
            "\n",
            "@RIHEVNAA.execute: Starting RI-HEVNAA Execution\n",
            "\n",
            "Creating process for bus_manager\n",
            "Creating process for web_monitoring_process\n",
            "Creating process for accelerators\n",
            "Creating process for agent_unit\n",
            "Creating process for right_unit\n",
            "Creating process for left_unit\n",
            "Attempting to start process bus_manager\n",
            "pid: 24375, daemon: False, alive: True, exitcode: None\n",
            "Attempting to start process web_monitoring_process\n",
            "pid: 24376, daemon: False, alive: True, exitcode: None\n",
            "Attempting to start process accelerators\n",
            "pid: 24377, daemon: False, alive: True, exitcode: None\n",
            "Attempting to start process agent_unit\n",
            "pid: 24378, daemon: False, alive: True, exitcode: None\n",
            "Attempting to start process right_unit\n",
            "pid: 24379, daemon: False, alive: True, exitcode: None\n",
            "Attempting to start process left_unit\n",
            "pid: 24380, daemon: False, alive: True, exitcode: None\n",
            "\n",
            "@RIHEVNAA.execute: All processes started successfully, starting execution\n",
            "\n",
            "@L_HCPU_Unit.execute\n",
            "@L_HCPU.execute:\n",
            "@Accelerators.execute: Start\n",
            "@WebMonitoringProcess.execute: Start\n",
            "@BusManager.execute: Start\n",
            "@A_HCPU_Unit.execute\n",
            "@A_HCPU.execute:\n",
            "@R_HCPU_Unit.execute\n",
            "@R_HCPU.execute:\n",
            "Process left_unit:\n",
            "Traceback (most recent call last):\n",
            "  File \"/usr/local/Cellar/python@3.10/3.10.12_1/Frameworks/Python.framework/Versions/3.10/lib/python3.10/multiprocessing/process.py\", line 314, in _bootstrap\n",
            "    self.run()\n",
            "  File \"/usr/local/Cellar/python@3.10/3.10.12_1/Frameworks/Python.framework/Versions/3.10/lib/python3.10/multiprocessing/process.py\", line 108, in run\n",
            "    self._target(*self._args, **self._kwargs)\n",
            "  File \"/Library/Github/RI-HEVNAA/RIHEVNAA.py\", line 48, in run_coroutine_in_new_process\n",
            "    loop.run_until_complete(coroutine)\n",
            "  File \"/usr/local/Cellar/python@3.10/3.10.12_1/Frameworks/Python.framework/Versions/3.10/lib/python3.10/asyncio/base_events.py\", line 649, in run_until_complete\n",
            "    return future.result()\n",
            "  File \"/Library/Github/RI-HEVNAA/Unit.py\", line 26, in execute\n",
            "    await self.unit_HCPU.execute()\n",
            "  File \"/Library/Github/RI-HEVNAA/HCPU.py\", line 82, in execute\n",
            "    await self.run()\n",
            "  File \"/Library/Github/RI-HEVNAA/HCPU.py\", line 102, in run\n",
            "    instruction, program, memory = await self.control_unit.run(self.logger, self.RAM, self.accelerators)\n",
            "  File \"/Library/Github/RI-HEVNAA/HCPU_Sub_Components/ControlUnit.py\", line 90, in run\n",
            "    self.running_task = await creative_task_generation.create_task(logger, RAM, Accelerators)\n",
            "TypeError: object str can't be used in 'await' expression\n",
            "Process agent_unit:\n",
            "Traceback (most recent call last):\n",
            "  File \"/usr/local/Cellar/python@3.10/3.10.12_1/Frameworks/Python.framework/Versions/3.10/lib/python3.10/multiprocessing/process.py\", line 314, in _bootstrap\n",
            "    self.run()\n",
            "  File \"/usr/local/Cellar/python@3.10/3.10.12_1/Frameworks/Python.framework/Versions/3.10/lib/python3.10/multiprocessing/process.py\", line 108, in run\n",
            "    self._target(*self._args, **self._kwargs)\n",
            "  File \"/Library/Github/RI-HEVNAA/RIHEVNAA.py\", line 48, in run_coroutine_in_new_process\n",
            "    loop.run_until_complete(coroutine)\n",
            "  File \"/usr/local/Cellar/python@3.10/3.10.12_1/Frameworks/Python.framework/Versions/3.10/lib/python3.10/asyncio/base_events.py\", line 649, in run_until_complete\n",
            "    return future.result()\n",
            "  File \"/Library/Github/RI-HEVNAA/Unit.py\", line 26, in execute\n",
            "    await self.unit_HCPU.execute()\n",
            "  File \"/Library/Github/RI-HEVNAA/HCPU.py\", line 82, in execute\n",
            "    await self.run()\n",
            "  File \"/Library/Github/RI-HEVNAA/HCPU.py\", line 102, in run\n",
            "    instruction, program, memory = await self.control_unit.run(self.logger, self.RAM, self.accelerators)\n",
            "  File \"/Library/Github/RI-HEVNAA/HCPU_Sub_Components/ControlUnit.py\", line 90, in run\n",
            "    self.running_task = await creative_task_generation.create_task(logger, RAM, Accelerators)\n",
            "TypeError: object str can't be used in 'await' expression\n",
            "Process right_unit:\n",
            "Traceback (most recent call last):\n",
            "  File \"/usr/local/Cellar/python@3.10/3.10.12_1/Frameworks/Python.framework/Versions/3.10/lib/python3.10/multiprocessing/process.py\", line 314, in _bootstrap\n",
            "    self.run()\n",
            "  File \"/usr/local/Cellar/python@3.10/3.10.12_1/Frameworks/Python.framework/Versions/3.10/lib/python3.10/multiprocessing/process.py\", line 108, in run\n",
            "    self._target(*self._args, **self._kwargs)\n",
            "  File \"/Library/Github/RI-HEVNAA/RIHEVNAA.py\", line 48, in run_coroutine_in_new_process\n",
            "    loop.run_until_complete(coroutine)\n",
            "  File \"/usr/local/Cellar/python@3.10/3.10.12_1/Frameworks/Python.framework/Versions/3.10/lib/python3.10/asyncio/base_events.py\", line 649, in run_until_complete\n",
            "    return future.result()\n",
            "  File \"/Library/Github/RI-HEVNAA/Unit.py\", line 26, in execute\n",
            "    await self.unit_HCPU.execute()\n",
            "  File \"/Library/Github/RI-HEVNAA/HCPU.py\", line 82, in execute\n",
            "    await self.run()\n",
            "  File \"/Library/Github/RI-HEVNAA/HCPU.py\", line 102, in run\n",
            "    instruction, program, memory = await self.control_unit.run(self.logger, self.RAM, self.accelerators)\n",
            "  File \"/Library/Github/RI-HEVNAA/HCPU_Sub_Components/ControlUnit.py\", line 90, in run\n",
            "    self.running_task = await creative_task_generation.create_task(logger, RAM, Accelerators)\n",
            "TypeError: object str can't be used in 'await' expression\n",
            "^C\n",
            "Process bus_manager:\n",
            "Process accelerators:\n",
            "Process web_monitoring_process:\n",
            "Traceback (most recent call last):\n",
            "  File \"/Library/Github/RI-HEVNAA/main.py\", line 53, in <module>\n",
            "Traceback (most recent call last):\n",
            "Traceback (most recent call last):\n",
            "  File \"/usr/local/Cellar/python@3.10/3.10.12_1/Frameworks/Python.framework/Versions/3.10/lib/python3.10/multiprocessing/process.py\", line 314, in _bootstrap\n",
            "    self.run()\n",
            "  File \"/usr/local/Cellar/python@3.10/3.10.12_1/Frameworks/Python.framework/Versions/3.10/lib/python3.10/multiprocessing/process.py\", line 108, in run\n",
            "    self._target(*self._args, **self._kwargs)\n",
            "  File \"/Library/Github/RI-HEVNAA/RIHEVNAA.py\", line 48, in run_coroutine_in_new_process\n",
            "    loop.run_until_complete(coroutine)\n",
            "  File \"/usr/local/Cellar/python@3.10/3.10.12_1/Frameworks/Python.framework/Versions/3.10/lib/python3.10/asyncio/base_events.py\", line 636, in run_until_complete\n",
            "    self.run_forever()\n",
            "  File \"/usr/local/Cellar/python@3.10/3.10.12_1/Frameworks/Python.framework/Versions/3.10/lib/python3.10/asyncio/base_events.py\", line 603, in run_forever\n",
            "    self._run_once()\n",
            "  File \"/usr/local/Cellar/python@3.10/3.10.12_1/Frameworks/Python.framework/Versions/3.10/lib/python3.10/multiprocessing/process.py\", line 314, in _bootstrap\n",
            "    self.run()\n",
            "Traceback (most recent call last):\n",
            "  File \"/usr/local/Cellar/python@3.10/3.10.12_1/Frameworks/Python.framework/Versions/3.10/lib/python3.10/asyncio/base_events.py\", line 1909, in _run_once\n",
            "    handle._run()\n",
            "  File \"/usr/local/Cellar/python@3.10/3.10.12_1/Frameworks/Python.framework/Versions/3.10/lib/python3.10/multiprocessing/process.py\", line 108, in run\n",
            "    self._target(*self._args, **self._kwargs)\n",
            "  File \"/Library/Github/RI-HEVNAA/RIHEVNAA.py\", line 48, in run_coroutine_in_new_process\n",
            "    loop.run_until_complete(coroutine)\n",
            "  File \"/usr/local/Cellar/python@3.10/3.10.12_1/Frameworks/Python.framework/Versions/3.10/lib/python3.10/asyncio/base_events.py\", line 636, in run_until_complete\n",
            "    self.run_forever()\n",
            "  File \"/usr/local/Cellar/python@3.10/3.10.12_1/Frameworks/Python.framework/Versions/3.10/lib/python3.10/asyncio/events.py\", line 80, in _run\n",
            "    self._context.run(self._callback, *self._args)\n",
            "  File \"/Library/Github/RI-HEVNAA/Accelerators.py\", line 72, in execute\n",
            "    time.sleep(1)\n",
            "  File \"/usr/local/Cellar/python@3.10/3.10.12_1/Frameworks/Python.framework/Versions/3.10/lib/python3.10/asyncio/base_events.py\", line 603, in run_forever\n",
            "    self._run_once()\n",
            "  File \"/usr/local/Cellar/python@3.10/3.10.12_1/Frameworks/Python.framework/Versions/3.10/lib/python3.10/asyncio/base_events.py\", line 1909, in _run_once\n",
            "    handle._run()\n",
            "KeyboardInterrupt\n",
            "  File \"/usr/local/Cellar/python@3.10/3.10.12_1/Frameworks/Python.framework/Versions/3.10/lib/python3.10/asyncio/events.py\", line 80, in _run\n",
            "    self._context.run(self._callback, *self._args)\n",
            "  File \"/Library/Github/RI-HEVNAA/WebMonitoringProcess.py\", line 34, in execute\n",
            "    await self.run(logger)\n",
            "  File \"/usr/local/Cellar/python@3.10/3.10.12_1/Frameworks/Python.framework/Versions/3.10/lib/python3.10/multiprocessing/process.py\", line 314, in _bootstrap\n",
            "    self.run()\n",
            "  File \"/Library/Github/RI-HEVNAA/WebMonitoringProcess.py\", line 43, in run\n",
            "    time.sleep(11)\n",
            "      File \"/usr/local/Cellar/python@3.10/3.10.12_1/Frameworks/Python.framework/Versions/3.10/lib/python3.10/multiprocessing/process.py\", line 108, in run\n",
            "    self._target(*self._args, **self._kwargs)\n",
            "KeyboardInterrupt\n",
            "  File \"/Library/Github/RI-HEVNAA/RIHEVNAA.py\", line 48, in run_coroutine_in_new_process\n",
            "    loop.run_until_complete(coroutine)\n",
            "  File \"/usr/local/Cellar/python@3.10/3.10.12_1/Frameworks/Python.framework/Versions/3.10/lib/python3.10/asyncio/base_events.py\", line 636, in run_until_complete\n",
            "    self.run_forever()\n",
            "  File \"/usr/local/Cellar/python@3.10/3.10.12_1/Frameworks/Python.framework/Versions/3.10/lib/python3.10/asyncio/base_events.py\", line 603, in run_forever\n",
            "    self._run_once()\n",
            "  File \"/usr/local/Cellar/python@3.10/3.10.12_1/Frameworks/Python.framework/Versions/3.10/lib/python3.10/asyncio/base_events.py\", line 1909, in _run_once\n",
            "    handle._run()\n",
            "  File \"/usr/local/Cellar/python@3.10/3.10.12_1/Frameworks/Python.framework/Versions/3.10/lib/python3.10/asyncio/events.py\", line 80, in _run\n",
            "    self._context.run(self._callback, *self._args)\n",
            "  File \"/Library/Github/RI-HEVNAA/BusManager.py\", line 36, in execute\n",
            "    await self.run(logger)\n",
            "  File \"/Library/Github/RI-HEVNAA/BusManager.py\", line 44, in run\n",
            "    time.sleep(5)\n",
            "asyncio.run(main())KeyboardInterrupt\n",
            "\n",
            "  File \"/usr/local/Cellar/python@3.10/3.10.12_1/Frameworks/Python.framework/Versions/3.10/lib/python3.10/asyncio/runners.py\", line 44, in run\n",
            "    return loop.run_until_complete(main)\n",
            "  File \"/usr/local/Cellar/python@3.10/3.10.12_1/Frameworks/Python.framework/Versions/3.10/lib/python3.10/asyncio/base_events.py\", line 636, in run_until_complete\n",
            "    self.run_forever()\n",
            "  File \"/usr/local/Cellar/python@3.10/3.10.12_1/Frameworks/Python.framework/Versions/3.10/lib/python3.10/asyncio/base_events.py\", line 603, in run_forever\n",
            "    self._run_once()\n",
            "  File \"/usr/local/Cellar/python@3.10/3.10.12_1/Frameworks/Python.framework/Versions/3.10/lib/python3.10/asyncio/base_events.py\", line 1909, in _run_once\n",
            "    handle._run()\n",
            "  File \"/usr/local/Cellar/python@3.10/3.10.12_1/Frameworks/Python.framework/Versions/3.10/lib/python3.10/asyncio/events.py\", line 80, in _run\n",
            "    self._context.run(self._callback, *self._args)\n",
            "  File \"/Library/Github/RI-HEVNAA/main.py\", line 43, in main\n",
            "    await ri_hevnaa.execute()\n",
            "  File \"/Library/Github/RI-HEVNAA/RIHEVNAA.py\", line 127, in execute\n",
            "    p.join()\n",
            "  File \"/usr/local/Cellar/python@3.10/3.10.12_1/Frameworks/Python.framework/Versions/3.10/lib/python3.10/multiprocessing/process.py\", line 149, in join\n",
            "    res = self._popen.wait(timeout)\n",
            "  File \"/usr/local/Cellar/python@3.10/3.10.12_1/Frameworks/Python.framework/Versions/3.10/lib/python3.10/multiprocessing/popen_fork.py\", line 43, in wait\n",
            "    return self.poll(os.WNOHANG if timeout == 0.0 else 0)\n",
            "  File \"/usr/local/Cellar/python@3.10/3.10.12_1/Frameworks/Python.framework/Versions/3.10/lib/python3.10/multiprocessing/popen_fork.py\", line 27, in poll\n",
            "    pid, sts = os.waitpid(self.pid, flag)\n",
            "KeyboardInterrupt\n"
          ]
        }
      ],
      "source": [
        "import os\n",
        "!python3.10 main.py"
      ]
    },
    {
      "cell_type": "markdown",
      "metadata": {},
      "source": [
        "**Troubleshooting 1:** \n",
        "\n",
        "\n",
        "**Troubleshooting 2:**\n",
        "See further advice in the FAQ if you run into trouble:\n",
        "https://github.com/UMN-VR/RI-HEVNAA/blob/master/docs/FAQ.md\n",
        "\n"
      ]
    },
    {
      "cell_type": "markdown",
      "metadata": {
        "id": "sbP09OrvRHI2"
      },
      "source": [
        "# Setup and run RI_HEVNAA with Google Colab\n",
        "\n",
        "As many users do not have a powerful enough CPU or GPU installed on their computer, this guide will explain how to use RI_HEVNAA with a free CPU & GPU from google via their google colab service\n",
        "\n",
        "\n",
        "## Optional: [Read papers](https://github.com/UMN-VR/RI-HEVNAA/tree/main/papers)\n",
        "\n",
        "This will help you understand the related concepts, purpose and capabilities of RI_HEVNAA.\n",
        "\n",
        "[Code Llama: Open Foundation Models for Code](https://github.com/UMN-VR/RI-HEVNAA/blob/main/papers/Code%20Llama%20Open%20Foundation%20Models%20for%20Code.pdf)\n",
        "\n",
        "[Consciousness in Artificial Intelligence Insights from the Science of Consciousness](https://github.com/UMN-VR/RI-HEVNAA/blob/main/papers/Consciousness%20in%20Artificial%20Intelligence%20Insights%20from%20the%20Science%20of%20Consciousness.pdf)"
      ]
    },
    {
      "cell_type": "markdown",
      "metadata": {
        "id": "WObRSiUqVwT8"
      },
      "source": [
        "**Note:** This web page is a type of web application called a jupyter notebook. Jupyter notebooks are open source web applications that allow you to write and run live code.\n",
        "\n",
        "**Note:** I have written either 'Do every time' or 'First time only' to indicate if an instruction is something you only need to do once when first setting up the system or each time you want to run the RI_HEVNAA server.\n",
        "\n",
        "\n",
        "**Note:** Colab can be a bit slow.\n",
        "\n",
        "## Change runtime type. (First time only)\n",
        "\n",
        "1. Select 'Runtime' in the top menu (of this notebook).\n",
        "2. Select 'Change runtime\n",
        "type'\n",
        "3. Select CPU \n",
        "4. Click SAVE"
      ]
    },
    {
      "cell_type": "markdown",
      "metadata": {
        "id": "X3aTezlyP0ge"
      },
      "source": [
        "## Mount drive so data can be shared with client. (Do every time)\n",
        "\n",
        "To run the following block of code. Hover your mouse over it and then click the play icon on the left of it.\n",
        "\n",
        "**Note**: This may take you to another page where you need to authenticate with your google account.\n",
        "\n",
        "If you find it takes ages (over two minutes) without doing anything then click the stop icon and then play again.\n",
        "\n"
      ]
    },
    {
      "cell_type": "code",
      "execution_count": null,
      "metadata": {
        "id": "AP0zC9szP7iD"
      },
      "outputs": [],
      "source": [
        "from google.colab import drive\n",
        "drive.mount('/content/drive')"
      ]
    },
    {
      "cell_type": "markdown",
      "metadata": {
        "id": "oZwAbjcaNeyq"
      },
      "source": [
        "\n",
        "\n",
        "## Clone RI_HEVNAA repo (First time only, or if you need to update to the latest version)\n",
        "\n",
        "\n",
        "\n",
        "\n"
      ]
    },
    {
      "cell_type": "markdown",
      "metadata": {
        "id": "yOY8KmAruLrH"
      },
      "source": [
        "This is done in order to download the source code into google drive so we can run the server application.\n"
      ]
    },
    {
      "cell_type": "code",
      "execution_count": null,
      "metadata": {
        "id": "KuokLFWiM4xz"
      },
      "outputs": [],
      "source": [
        "import os\n",
        "assert os.path.isdir('/content/drive/MyDrive'), 'Are you sure the drive is mounted? See Mount drive step above'\n",
        "!rm -r  /content/drive/'MyDrive'/RI_HEVNAA\n",
        "!pip install imagecodecs # this is required to enable support for certain types of compressed tif images.\n",
        "!git clone https://github.com/UMN-VR/RI_HEVNAA.git /content/drive/'MyDrive'/RI_HEVNAA"
      ]
    },
    {
      "cell_type": "markdown",
      "metadata": {
        "id": "IzgwzCukanhx"
      },
      "source": [
        "## Prepare working directory\n",
        "\n"
      ]
    },
    {
      "cell_type": "code",
      "execution_count": null,
      "metadata": {
        "id": "ZDlGlARVb60B"
      },
      "outputs": [],
      "source": [
        "import os\n",
        "assert os.path.isdir('/content/drive/MyDrive/RI_HEVNAA'), 'Are you sure the drive is mounted? See Mount drive step above'\n",
        "!mkdir /content/drive/MyDrive/'RI_HEVNAA'/logs\n"
      ]
    },
    {
      "cell_type": "markdown",
      "metadata": {
        "id": "QPMZMEpMUJvu"
      },
      "source": [
        "## Start server (Do every time)\n",
        "\n",
        "**Note** This cell should keep running until you stop it. Which you can do after you have finished using RI_HEVNAA.\n",
        "\n",
        "**Important** If you are using this Python Notebook on your local machine, run the code in [Local Execution](#local-execution)\n"
      ]
    },
    {
      "cell_type": "markdown",
      "metadata": {},
      "source": [
        "### Execute RI_HEVNAA on Google Colab"
      ]
    },
    {
      "cell_type": "code",
      "execution_count": null,
      "metadata": {
        "id": "Lc4cnWxPVUvK"
      },
      "outputs": [],
      "source": [
        "import os\n",
        "assert os.path.isdir('/content/drive/MyDrive/RI_HEVNAA'), 'Are you sure the drive is mounted? See Mount drive step above'\n",
        "!python /content/drive/MyDrive/RI_HEVNAA/main.py --dir '/content/drive/MyDrive/RI_HEVNAA' "
      ]
    },
    {
      "cell_type": "markdown",
      "metadata": {
        "id": "SVNaqqVUmYda"
      },
      "source": [
        "**Troubleshooting 1:** If running the code above gives the output \"can't open file [..] main.py\" then you probably need to mount google drive. Go back to the instruction _Mount drive so data can be shared with client. (Do every time)_\n",
        "\n",
        "**Troubleshooting 2:** If starting the server stopped working for you then you may need to run the 'Clone RI_HEVNAA repository' above as the code now receives the syncdir as a command line argument but you will need to update to the latest version (by running the clone command) for this to work.\n",
        "\n",
        "**Troubleshooting 3:** If it appears the client is _very_ slow it may be that other files are still syncing. On mac and windows you can inspect the google drive sync activity. It may be that client server interaction is interrupted by large amounts of sync activity from newly added datasets or other files you have in google drive.\n",
        "\n",
        "**Troubleshooting 4:**\n",
        "See further advice in the FAQ if you run into trouble:\n",
        "https://github.com/UMN-VR/RI-HEVNAA/blob/master/docs/FAQ.md\n",
        "\n"
      ]
    },
    {
      "cell_type": "markdown",
      "metadata": {
        "id": "q91h8jGUM95b"
      },
      "source": [
        "### Limitations of Google Colab\n",
        "\n",
        "In Colab, you get around 12 hours of execution time but the session will disconnect if you are idle for 1 hour, meaning that every 12 hours, Disk, Memory and CPU Cache will get erased.\n",
        "\n",
        "For larger projects, I recommend using your own server or paperspace. Google cloud and amazon web services also have options for renting GPUs. It's also possible to get a paid colab account which apparently increases the reliability.\n",
        "\n"
      ]
    },
    {
      "cell_type": "markdown",
      "metadata": {},
      "source": [
        "## Credits\n",
        "\n",
        "[Abraham George Smith](https://www.researchgate.net/profile/Abraham-Smith-2) -author of Python notebook used as starting point for this interactive tutorial and main developer of the RootPainter software.\n",
        "\n",
        "[R. Ford Denison](https://darwinianagriculture.wordpress.com/) - Testing,  guidance on usability issues and collaboration with AGS on both the introductory and explanatory text."
      ]
    }
  ],
  "metadata": {
    "accelerator": "GPU",
    "colab": {
      "collapsed_sections": [
        "9RA9wlPLNqvx",
        "h4qb4FZGSUWj",
        "q91h8jGUM95b",
        "vmU6Zj5svOZN"
      ],
      "private_outputs": true,
      "provenance": []
    },
    "kernelspec": {
      "display_name": "Python 3",
      "name": "python3"
    },
    "language_info": {
      "codemirror_mode": {
        "name": "ipython",
        "version": 3
      },
      "file_extension": ".py",
      "mimetype": "text/x-python",
      "name": "python",
      "nbconvert_exporter": "python",
      "pygments_lexer": "ipython3",
      "version": "3.10.12"
    }
  },
  "nbformat": 4,
  "nbformat_minor": 0
}
